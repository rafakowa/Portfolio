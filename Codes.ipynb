{
    "cells": [
        {
            "cell_type": "markdown",
            "metadata": {},
            "source": [
                "In code part named \"Sales\" I want to analysis sales by best and worst products, sales in time or online sales. "
            ]
        },
        {
            "cell_type": "code",
            "execution_count": null,
            "metadata": {
                "azdata_cell_guid": "79d97367-e7a2-4cab-aa18-21ec08dcd8a9",
                "language": "sql",
                "tags": []
            },
            "outputs": [],
            "source": [
                "--Sales--\n",
                "\n",
                "SELECT sod.SalesOrderID,\n",
                "        SalesOrderDetailID,\n",
                "        OrderQty,\n",
                "        sod. ProductID,\n",
                "        p.Name 'Product',\n",
                "        UnitPrice,\n",
                "        LineTotal,\n",
                "        st.Name 'Region',\n",
                "        soh.OrderDate,\n",
                "        soh.OnlineOrderFlag,\n",
                "        ps.Name 'Subcategory'\n",
                "from Sales.SalesOrderDetail sod \n",
                "JOIN sales.SalesOrderHeader soh \n",
                "    on soh.SalesOrderID = sod.SalesOrderID\n",
                "JOIN Sales.SalesTerritory st \n",
                "    on soh.TerritoryID = st.TerritoryID\n",
                "JOIN Production.Product p \n",
                "    on p.ProductID = sod.ProductID\n",
                "join Production.ProductSubcategory ps ON\n",
                "    ps.ProductSubcategoryID = p.ProductSubcategoryID\n"
            ]
        },
        {
            "cell_type": "markdown",
            "metadata": {},
            "source": [
                "In the second code I have to add colums to get predicted sales and predicted costs. If quantity is bigger than safety stock level we have predicted sales, but if it lower than that we have to product more stuff to reach safety level and gains costs."
            ]
        },
        {
            "cell_type": "code",
            "execution_count": null,
            "metadata": {
                "azdata_cell_guid": "7a000dc3-c76d-47cf-97ce-407352254dd9",
                "language": "sql",
                "tags": [
                    "hide_input"
                ]
            },
            "outputs": [],
            "source": [
                "--Warehouse--\n",
                "\n",
                "SELECT pi.*, l.Name 'Warehouse',\n",
                "l.LocationID, \n",
                "pc.Name 'Category_Name', \n",
                "p.Name 'Product_Name', \n",
                "p.SafetyStockLevel, \n",
                "p.StandardCost, \n",
                "p.ListPrice,\n",
                "case\n",
                "when pi.Quantity > p.SafetyStockLevel \n",
                "    then (pi.Quantity - p.SafetyStockLevel) * p.ListPrice\n",
                "    else 0\n",
                "    end as 'Predicted_Sales',\n",
                "case \n",
                "when pi.Quantity < p.SafetyStockLevel\n",
                "    then (p.SafetyStockLevel - pi.Quantity) * p.StandardCost\n",
                "    else 0\n",
                "    end as 'Predicted_Costs'\n",
                "FROM Production.ProductInventory pi \n",
                "JOIN Production.[Location] l \n",
                "    on l.LocationID = pi.LocationID\n",
                "JOIN Production.Product p \n",
                "    on p.ProductID = pi.ProductID\n",
                "JOIN Production.ProductCategory pc \n",
                "    on pc.ProductCategoryID = p.ProductSubcategoryID\n",
                "\n",
                "\n"
            ]
        },
        {
            "cell_type": "markdown",
            "metadata": {},
            "source": [
                "Third one contains two tables contains retail and individual customers. They are connected with union all."
            ]
        },
        {
            "cell_type": "code",
            "execution_count": null,
            "metadata": {
                "azdata_cell_guid": "c4e8bf8a-a986-42c7-b56d-bf17fb248fe0",
                "language": "sql",
                "tags": [
                    "hide_input"
                ]
            },
            "outputs": [],
            "source": [
                "--Clients--\n",
                "\n",
                "SELECT s.BusinessEntityID 'CustomerID'\n",
                "    ,s.Name 'CustomerName'\n",
                "    ,a.AddressLine1\n",
                "    ,a.City\n",
                "    ,sp.Name 'StateProvince'\n",
                "    ,cr.Name 'Country'\n",
                "    ,soh.TotalDue\n",
                "    ,'Retail' 'CustomerType'\n",
                "FROM Sales.Store s\n",
                "JOIN Sales.Customer c \n",
                "    on c.StoreID = s.BusinessEntityID\n",
                "JOIN Person.BusinessEntityAddress bea \n",
                "    on bea.BusinessEntityID = s.BusinessEntityID\n",
                "join Person.Address a \n",
                "    on a.AddressID = bea.AddressID\n",
                "JOIN Person.StateProvince sp \n",
                "    on sp.StateProvinceID = a.StateProvinceID\n",
                "join Person.CountryRegion cr \n",
                "    on cr.CountryRegionCode = sp.CountryRegionCode\n",
                "JOIN Sales.SalesOrderHeader soh \n",
                "    on soh.CustomerID = c.CustomerID\n",
                "union all \n",
                "SELECT c.CustomerID\n",
                "    ,CONCAT_WS(' ',p.FirstName,p.LastName) 'CustomerName'\n",
                "    ,a.AddressLine1\n",
                "    ,a.City\n",
                "    ,sp.Name 'StateProvince'\n",
                "    ,cr.Name 'Country'\n",
                "    ,soh.TotalDue\n",
                "    ,'Individual' 'CustomerType'\n",
                "FROM Sales.Customer c\n",
                "JOIN Person.Person p\n",
                "    on p.BusinessEntityID = c.PersonID\n",
                "JOIN Person.BusinessEntityAddress bea \n",
                "    on bea.BusinessEntityID = p.BusinessEntityID\n",
                "join Person.Address a \n",
                "    on a.AddressID = bea.AddressID\n",
                "JOIN Person.StateProvince sp \n",
                "    on sp.StateProvinceID = a.StateProvinceID\n",
                "join Person.CountryRegion cr \n",
                "    on cr.CountryRegionCode = sp.CountryRegionCode\n",
                "JOIN Sales.SalesOrderHeader soh \n",
                "    on soh.CustomerID = c.CustomerID\n",
                "\n"
            ]
        },
        {
            "cell_type": "markdown",
            "metadata": {},
            "source": [
                "Production losses is another part of my analysis. As not to lose much data without defined product line, I changed non-defined lines to line 'L' to better analysis. "
            ]
        },
        {
            "cell_type": "code",
            "execution_count": null,
            "metadata": {
                "azdata_cell_guid": "f92ae013-8242-441d-95e5-6255c0d667c0",
                "language": "sql",
                "tags": [
                    "hide_input"
                ]
            },
            "outputs": [],
            "source": [
                "--Production losses--\n",
                "\n",
                "SELECT p.ProductID,\n",
                "        p.Name,\n",
                "        p.SafetyStockLevel,\n",
                "        p.ReorderPoint,\n",
                "        p.StandardCost,\n",
                "        p.ListPrice,\n",
                "        p.DaysToManufacture,\n",
                "        p.ProductLine,\n",
                "        pc.Name 'Category',\n",
                "        ps.Name 'Subcategory',\n",
                "        wo.ScrappedQty,\n",
                "        wo.ScrappedQty * p.StandardCost 'ProductionLosses',\n",
                "        wo.ScrappedQty * p.ListPrice 'LoosedIncomes',\n",
                "case \n",
                "    when p.ProductLine is null\n",
                "    then 'L'\n",
                "    else p.ProductLine\n",
                "    end as ProductLine2 \n",
                "from Production.[Product] p \n",
                "join Production.ProductSubcategory ps ON\n",
                "    ps.ProductSubcategoryID = p.ProductSubcategoryID\n",
                "join Production.WorkOrder wo ON\n",
                "    wo.ProductID = p.ProductID\n",
                "join Production.ProductCategory pc ON\n",
                "    pc.ProductCategoryID = ps.ProductCategoryID\n",
                "\n",
                "\n"
            ]
        },
        {
            "cell_type": "markdown",
            "metadata": {},
            "source": [
                "The last code in my project was about employees. I want to show all necessary information about company employees."
            ]
        },
        {
            "cell_type": "code",
            "execution_count": null,
            "metadata": {
                "azdata_cell_guid": "0ba9f963-283e-4d1b-b22f-d5dc12c6abda",
                "language": "sql",
                "tags": [
                    "hide_input"
                ]
            },
            "outputs": [],
            "source": [
                "--Employees--\n",
                "\n",
                "select p.BusinessEntityID\n",
                "    ,p.PersonType\n",
                "    ,CONCAT_WS(' ',p.FirstName,p.MiddleName,p.LastName) Employee\n",
                "    ,e.Gender\n",
                "    ,d.Name Department\n",
                "    ,e.JobTitle\n",
                "    ,pp.PhoneNumber\n",
                "    ,a.City\n",
                "    ,CONCAT_WS(' ',a.AddressLine1,a.AddressLine2) Address\n",
                "    ,sp.Name StateProvince \n",
                "    ,cr.Name Country\n",
                "from Person.Person p \n",
                "JOIN HumanResources.EmployeeDepartmentHistory edh \n",
                "    on edh.BusinessEntityID = p.BusinessEntityID\n",
                "JOIN HumanResources.Department d \n",
                "    on d.DepartmentID = edh.DepartmentID\n",
                "join HumanResources.Employee e \n",
                "    on e.BusinessEntityID = p.BusinessEntityID\n",
                "join Person.PersonPhone pp\n",
                "    on pp.BusinessEntityID = p.BusinessEntityID\n",
                "JOIN Person.BusinessEntityAddress bea \n",
                "    on bea.BusinessEntityID = p.BusinessEntityID\n",
                "join Person.Address a \n",
                "    on a.AddressID = bea.AddressID\n",
                "join Person.StateProvince sp\n",
                "    on sp.StateProvinceID = a.StateProvinceID\n",
                "join Person.CountryRegion cr \n",
                "    on cr.CountryRegionCode = sp.CountryRegionCode\n",
                "order by p.BusinessEntityID"
            ]
        }
    ],
    "metadata": {
        "kernelspec": {
            "display_name": "SQL",
            "language": "sql",
            "name": "SQL"
        },
        "language_info": {
            "name": "sql",
            "version": ""
        }
    },
    "nbformat": 4,
    "nbformat_minor": 2
}
