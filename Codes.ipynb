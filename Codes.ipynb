{
    "metadata": {
        "kernelspec": {
            "name": "SQL",
            "display_name": "SQL",
            "language": "sql"
        },
        "language_info": {
            "name": "sql",
            "version": ""
        }
    },
    "nbformat_minor": 2,
    "nbformat": 4,
    "cells": [
        {
            "cell_type": "code",
            "source": [
                "--Salesssss--\r\n",
                "\r\n",
                "SELECT sod.SalesOrderID,\r\n",
                "        SalesOrderDetailID,\r\n",
                "        OrderQty,\r\n",
                "        sod. ProductID,\r\n",
                "        p.Name 'Product',\r\n",
                "        UnitPrice,\r\n",
                "        LineTotal,\r\n",
                "        st.Name 'Region',\r\n",
                "        soh.OrderDate,\r\n",
                "        soh.OnlineOrderFlag,\r\n",
                "        ps.Name 'Subcategory'\r\n",
                "from Sales.SalesOrderDetail sod \r\n",
                "JOIN sales.SalesOrderHeader soh \r\n",
                "    on soh.SalesOrderID = sod.SalesOrderID\r\n",
                "JOIN Sales.SalesTerritory st \r\n",
                "    on soh.TerritoryID = st.TerritoryID\r\n",
                "JOIN Production.Product p \r\n",
                "    on p.ProductID = sod.ProductID\r\n",
                "join Production.ProductSubcategory ps ON\r\n",
                "    ps.ProductSubcategoryID = p.ProductSubcategoryID\r\n",
                ""
            ],
            "metadata": {
                "azdata_cell_guid": "79d97367-e7a2-4cab-aa18-21ec08dcd8a9",
                "language": "sql",
                "tags": []
            },
            "outputs": [],
            "execution_count": null
        },
        {
            "cell_type": "code",
            "source": [
                "--Warehouse--\r\n",
                "\r\n",
                "SELECT pi.*, l.Name 'Warehouse',\r\n",
                "l.LocationID, \r\n",
                "pc.Name 'Category_Name', \r\n",
                "p.Name 'Product_Name', \r\n",
                "p.SafetyStockLevel, \r\n",
                "p.StandardCost, \r\n",
                "p.ListPrice,\r\n",
                "case\r\n",
                "when pi.Quantity > p.SafetyStockLevel \r\n",
                "    then (pi.Quantity - p.SafetyStockLevel) * p.ListPrice\r\n",
                "    else 0\r\n",
                "    end as 'Predicted_Sales',\r\n",
                "case \r\n",
                "when pi.Quantity < p.SafetyStockLevel\r\n",
                "    then (p.SafetyStockLevel - pi.Quantity) * p.StandardCost\r\n",
                "    else 0\r\n",
                "    end as 'Predicted_Costs'\r\n",
                "FROM Production.ProductInventory pi \r\n",
                "JOIN Production.[Location] l \r\n",
                "    on l.LocationID = pi.LocationID\r\n",
                "JOIN Production.Product p \r\n",
                "    on p.ProductID = pi.ProductID\r\n",
                "JOIN Production.ProductCategory pc \r\n",
                "    on pc.ProductCategoryID = p.ProductSubcategoryID\r\n",
                "\r\n",
                "\r\n",
                ""
            ],
            "metadata": {
                "azdata_cell_guid": "7a000dc3-c76d-47cf-97ce-407352254dd9",
                "language": "sql",
                "tags": [
                    "hide_input"
                ]
            },
            "outputs": [],
            "execution_count": null
        },
        {
            "cell_type": "code",
            "source": [
                "--Clients--\r\n",
                "\r\n",
                "select a.AddressID,\r\n",
                "    a.AddressLine1,\r\n",
                "    a.AddressLine2,\r\n",
                "    cr.Name 'Country',\r\n",
                "    a.City,\r\n",
                "    sp.Name 'StateProvince',\r\n",
                "    a.PostalCode,\r\n",
                "    bea.BusinessEntityID,\r\n",
                "    at.Name 'AddressType',\r\n",
                "    ct.Name 'ContactType',\r\n",
                "    sp.TerritoryID\r\n",
                "from Person.Address a\r\n",
                "join Person.BusinessEntityAddress bea \r\n",
                "    on bea.AddressID = a.AddressID\r\n",
                "JOIN Person.AddressType at \r\n",
                "    on at.AddressTypeID = bea.AddressTypeID\r\n",
                "join Person.BusinessEntityContact bec \r\n",
                "    on bec.BusinessEntityID = bea.BusinessEntityID\r\n",
                "join Person.ContactType ct \r\n",
                "    on ct.ContactTypeID = bec.ContactTypeID\r\n",
                "join Person.StateProvince sp \r\n",
                "    on sp.StateProvinceID = a.StateProvinceID\r\n",
                "JOIN Person.CountryRegion cr \r\n",
                "    on cr.CountryRegionCode = sp.CountryRegionCode\r\n",
                "JOIN Sales.Customer c \r\n",
                "    on c.CustomerID = bea.BusinessEntityID\r\n",
                ""
            ],
            "metadata": {
                "azdata_cell_guid": "1b4db2d7-3802-4971-8f81-14117d6c2936",
                "language": "sql",
                "tags": [
                    "hide_input"
                ]
            },
            "outputs": [],
            "execution_count": null
        },
        {
            "cell_type": "code",
            "source": [
                "--Customer 2-- plik\r\n",
                "\r\n",
                "SELECT s.BusinessEntityID 'CustomerID'\r\n",
                "    ,s.Name 'CustomerName'\r\n",
                "    ,a.AddressLine1\r\n",
                "    ,a.City\r\n",
                "    ,sp.Name 'StateProvince'\r\n",
                "    ,cr.Name 'Country'\r\n",
                "    ,soh.TotalDue\r\n",
                "    ,'Retail' 'CustomerType'\r\n",
                "FROM Sales.Store s\r\n",
                "JOIN Sales.Customer c \r\n",
                "    on c.StoreID = s.BusinessEntityID\r\n",
                "JOIN Person.BusinessEntityAddress bea \r\n",
                "    on bea.BusinessEntityID = s.BusinessEntityID\r\n",
                "join Person.Address a \r\n",
                "    on a.AddressID = bea.AddressID\r\n",
                "JOIN Person.StateProvince sp \r\n",
                "    on sp.StateProvinceID = a.StateProvinceID\r\n",
                "join Person.CountryRegion cr \r\n",
                "    on cr.CountryRegionCode = sp.CountryRegionCode\r\n",
                "JOIN Sales.SalesOrderHeader soh \r\n",
                "    on soh.CustomerID = c.CustomerID\r\n",
                "union all \r\n",
                "SELECT c.CustomerID\r\n",
                "    ,CONCAT_WS(' ',p.FirstName,p.LastName) 'CustomerName'\r\n",
                "    ,a.AddressLine1\r\n",
                "    ,a.City\r\n",
                "    ,sp.Name 'StateProvince'\r\n",
                "    ,cr.Name 'Country'\r\n",
                "    ,soh.TotalDue\r\n",
                "    ,'Individual' 'CustomerType'\r\n",
                "FROM Sales.Customer c\r\n",
                "JOIN Person.Person p\r\n",
                "    on p.BusinessEntityID = c.PersonID\r\n",
                "JOIN Person.BusinessEntityAddress bea \r\n",
                "    on bea.BusinessEntityID = p.BusinessEntityID\r\n",
                "join Person.Address a \r\n",
                "    on a.AddressID = bea.AddressID\r\n",
                "JOIN Person.StateProvince sp \r\n",
                "    on sp.StateProvinceID = a.StateProvinceID\r\n",
                "join Person.CountryRegion cr \r\n",
                "    on cr.CountryRegionCode = sp.CountryRegionCode\r\n",
                "JOIN Sales.SalesOrderHeader soh \r\n",
                "    on soh.CustomerID = c.CustomerID\r\n",
                "\r\n",
                ""
            ],
            "metadata": {
                "language": "sql",
                "azdata_cell_guid": "c4e8bf8a-a986-42c7-b56d-bf17fb248fe0",
                "tags": [
                    "hide_input"
                ]
            },
            "outputs": [],
            "execution_count": null
        },
        {
            "cell_type": "code",
            "source": [
                "--Production losses--\r\n",
                "\r\n",
                "SELECT p.ProductID,\r\n",
                "        p.Name,\r\n",
                "        p.SafetyStockLevel,\r\n",
                "        p.ReorderPoint,\r\n",
                "        p.StandardCost,\r\n",
                "        p.ListPrice,\r\n",
                "        p.DaysToManufacture,\r\n",
                "        p.ProductLine,\r\n",
                "        pc.Name 'Category',\r\n",
                "        ps.Name 'Subcategory',\r\n",
                "        wo.ScrappedQty,\r\n",
                "        wo.ScrappedQty * p.StandardCost 'ProductionLosses',\r\n",
                "        wo.ScrappedQty * p.ListPrice 'LoosedIncomes',\r\n",
                "case \r\n",
                "    when p.ProductLine is null\r\n",
                "    then 'L'\r\n",
                "    else p.ProductLine\r\n",
                "    end as ProductLine2 \r\n",
                "from Production.[Product] p \r\n",
                "join Production.ProductSubcategory ps ON\r\n",
                "    ps.ProductSubcategoryID = p.ProductSubcategoryID\r\n",
                "join Production.WorkOrder wo ON\r\n",
                "    wo.ProductID = p.ProductID\r\n",
                "join Production.ProductCategory pc ON\r\n",
                "    pc.ProductCategoryID = ps.ProductCategoryID\r\n",
                "\r\n",
                "\r\n",
                ""
            ],
            "metadata": {
                "azdata_cell_guid": "f92ae013-8242-441d-95e5-6255c0d667c0",
                "language": "sql",
                "tags": [
                    "hide_input"
                ]
            },
            "outputs": [],
            "execution_count": null
        },
        {
            "cell_type": "code",
            "source": [
                "--Employees--\r\n",
                "\r\n",
                "select p.BusinessEntityID\r\n",
                "    ,p.PersonType\r\n",
                "    ,CONCAT_WS(' ',p.FirstName,p.MiddleName,p.LastName) Employee\r\n",
                "    ,e.Gender\r\n",
                "    ,d.Name Department\r\n",
                "    ,e.JobTitle\r\n",
                "    ,pp.PhoneNumber\r\n",
                "    ,a.City\r\n",
                "    ,CONCAT_WS(' ',a.AddressLine1,a.AddressLine2) Address\r\n",
                "    ,sp.Name StateProvince \r\n",
                "    ,cr.Name Country\r\n",
                "from Person.Person p \r\n",
                "JOIN HumanResources.EmployeeDepartmentHistory edh \r\n",
                "    on edh.BusinessEntityID = p.BusinessEntityID\r\n",
                "JOIN HumanResources.Department d \r\n",
                "    on d.DepartmentID = edh.DepartmentID\r\n",
                "join HumanResources.Employee e \r\n",
                "    on e.BusinessEntityID = p.BusinessEntityID\r\n",
                "join Person.PersonPhone pp\r\n",
                "    on pp.BusinessEntityID = p.BusinessEntityID\r\n",
                "JOIN Person.BusinessEntityAddress bea \r\n",
                "    on bea.BusinessEntityID = p.BusinessEntityID\r\n",
                "join Person.Address a \r\n",
                "    on a.AddressID = bea.AddressID\r\n",
                "join Person.StateProvince sp\r\n",
                "    on sp.StateProvinceID = a.StateProvinceID\r\n",
                "join Person.CountryRegion cr \r\n",
                "    on cr.CountryRegionCode = sp.CountryRegionCode\r\n",
                "order by p.BusinessEntityID"
            ],
            "metadata": {
                "language": "sql",
                "azdata_cell_guid": "0ba9f963-283e-4d1b-b22f-d5dc12c6abda",
                "tags": [
                    "hide_input"
                ]
            },
            "outputs": [],
            "execution_count": null
        },
        {
            "cell_type": "code",
            "source": [
                "--SalesPerson and sales by Categories--\r\n",
                "\r\n",
                "SELECT CONCAT_WS(' ', p.FirstName,p.LastName) SalesPerson\r\n",
                "    ,REPLACE(case when st.name is null then 'Online' else st.name end ,'null','Online') Region\r\n",
                "    ,sum(soh.TotalDue) TotalSales\r\n",
                "    ,pc.Name CategoryName\r\n",
                "from Sales.SalesPerson sp\r\n",
                "join Person.Person p \r\n",
                "    on p.BusinessEntityID = sp.BusinessEntityID\r\n",
                "left JOIN Sales.SalesTerritory st \r\n",
                "    on sp.TerritoryID = st.TerritoryID\r\n",
                "join sales.SalesOrderHeader soh \r\n",
                "    on soh.SalesPersonID = sp.BusinessEntityID\r\n",
                "join sales.SalesOrderDetail sod \r\n",
                "    on sod.SalesOrderID = soh.SalesOrderID\r\n",
                "join Production.Product pr \r\n",
                "    on pr.ProductID = sod.ProductID\r\n",
                "join Production.ProductCategory pc \r\n",
                "    on pc.ProductCategoryID = pr.ProductSubcategoryID\r\n",
                "group by sp.BusinessEntityID\r\n",
                "    ,p.FirstName\r\n",
                "    ,p.LastName\r\n",
                "    ,st.Name\r\n",
                "    ,pc.Name"
            ],
            "metadata": {
                "language": "sql",
                "azdata_cell_guid": "6b7bccf4-5566-47f1-81cf-5930c158dc56",
                "tags": [
                    "hide_input"
                ]
            },
            "outputs": [],
            "execution_count": null
        },
        {
            "cell_type": "code",
            "source": [
                "--Top 3 and Last 3 Sales Person--\r\n",
                "\r\n",
                "with  TOP3 as (\r\n",
                "SELECT  top 3 sp.BusinessEntityID\r\n",
                "    ,CONCAT_WS(' ',p.FirstName,p.LastName) 'SalesPerson'\r\n",
                "    ,sp.SalesYTD 'Sales'\r\n",
                "    ,'TOP3' 'Rank'\r\n",
                "from sales.SalesPerson sp\r\n",
                "join Person.Person p \r\n",
                "    on p.BusinessEntityID = sp.BusinessEntityID\r\n",
                "order by 'Sales' DESC),\r\n",
                "LAST3 as (\r\n",
                "SELECT  top 3 sp.BusinessEntityID\r\n",
                "    ,CONCAT_WS(' ',p.FirstName,p.LastName) 'SalesPerson'\r\n",
                "    ,sp.SalesYTD 'Sales'\r\n",
                "    ,'LAST3' 'Rank'\r\n",
                "from sales.SalesPerson sp\r\n",
                "join Person.Person p \r\n",
                "    on p.BusinessEntityID = sp.BusinessEntityID\r\n",
                "order by 'Sales' ASC)\r\n",
                "\r\n",
                "\r\n",
                "SELECT * \r\n",
                "from TOP3\r\n",
                "UNION all \r\n",
                "SELECT * \r\n",
                "FROM LAST3"
            ],
            "metadata": {
                "language": "sql",
                "azdata_cell_guid": "c58f838a-ef20-4f6f-bed2-b98489bb13d7",
                "tags": [
                    "hide_input"
                ]
            },
            "outputs": [],
            "execution_count": null
        },
        {
            "cell_type": "code",
            "source": [
                "--Customers--\r\n",
                "\r\n",
                "SELECT c.CustomerID\r\n",
                "    ,CONCAT_WS(' ',p.FirstName,p.LastName) 'CustomerName'\r\n",
                "    ,a.AddressLine1\r\n",
                "    ,a.City\r\n",
                "    ,sp.Name 'StateProvince'\r\n",
                "    ,cr.Name 'Country'\r\n",
                "    ,soh.TotalDue\r\n",
                "    ,'Individual' 'CustomerType'\r\n",
                "FROM Sales.Customer c\r\n",
                "JOIN Person.Person p\r\n",
                "    on p.BusinessEntityID = c.PersonID\r\n",
                "JOIN Person.BusinessEntityAddress bea \r\n",
                "    on bea.BusinessEntityID = p.BusinessEntityID\r\n",
                "join Person.Address a \r\n",
                "    on a.AddressID = bea.AddressID\r\n",
                "JOIN Person.StateProvince sp \r\n",
                "    on sp.StateProvinceID = a.StateProvinceID\r\n",
                "join Person.CountryRegion cr \r\n",
                "    on cr.CountryRegionCode = sp.CountryRegionCode\r\n",
                "JOIN Sales.SalesOrderHeader soh \r\n",
                "    on soh.CustomerID = c.CustomerID\r\n",
                ""
            ],
            "metadata": {
                "language": "sql",
                "azdata_cell_guid": "67665cb3-040a-4526-8288-877ffb87862f",
                "tags": [
                    "hide_input"
                ]
            },
            "outputs": [],
            "execution_count": null
        },
        {
            "cell_type": "code",
            "source": [
                "--Top 10 products by Region--\r\n",
                "\r\n",
                "SELECT * \r\n",
                "from\r\n",
                "(SELECT \r\n",
                "        sod. ProductID,\r\n",
                "        p.Name 'Product',\r\n",
                "        sum(LineTotal) 'LineTotal1',\r\n",
                "        st.Name 'Region',\r\n",
                "        ps.Name 'Subcategory',\r\n",
                "        row_number() over (PARTITION by st.Name order by sum(LineTotal) DESC) as Rank\r\n",
                "from Sales.SalesOrderDetail sod \r\n",
                "JOIN sales.SalesOrderHeader soh \r\n",
                "    on soh.SalesOrderID = sod.SalesOrderID\r\n",
                "JOIN Sales.SalesTerritory st \r\n",
                "    on soh.TerritoryID = st.TerritoryID\r\n",
                "JOIN Production.Product p \r\n",
                "    on p.ProductID = sod.ProductID\r\n",
                "join Production.ProductSubcategory ps ON\r\n",
                "    ps.ProductSubcategoryID = p.ProductSubcategoryID\r\n",
                "group by \r\n",
                "        sod. ProductID,\r\n",
                "        p.Name,\r\n",
                "        st.Name ,\r\n",
                "        ps.Name,\r\n",
                "        LineTotal) ranked\r\n",
                "WHERE Rank <=10"
            ],
            "metadata": {
                "azdata_cell_guid": "28043415-730b-4b0a-8143-7f59b7bb9d09",
                "language": "sql",
                "tags": [
                    "hide_input"
                ]
            },
            "outputs": [],
            "execution_count": null
        },
        {
            "cell_type": "code",
            "source": [
                "--ostatnie zamówienie na dany region--\n",
                "\n",
                "SELECT soh.TerritoryID\r\n",
                "    ,soh.SalesOrderID\r\n",
                "    ,soh.OrderDate\r\n",
                "    ,soh.SalesOrderNumber\r\n",
                "    ,soh.TotalDue\r\n",
                "    ,LAST_VALUE(soh.OrderDate) OVER (PARTITION  by soh.TerritoryID order by soh.SalesOrderID desc)\r\n",
                "FROM sales.SalesOrderHeader soh\r\n",
                ""
            ],
            "metadata": {
                "language": "sql",
                "azdata_cell_guid": "da65b3f0-a2f7-4c03-bc90-5bac9b3fdd2f",
                "tags": [
                    "hide_input"
                ]
            },
            "outputs": [],
            "execution_count": null
        },
        {
            "cell_type": "code",
            "source": [
                "select p.BusinessEntityID\r\n",
                "    ,p.PersonType\r\n",
                "    ,CONCAT_WS(' ',p.FirstName,p.MiddleName,p.LastName) Employee\r\n",
                "    ,p.Suffix\r\n",
                "    ,p.EmailPromotion\r\n",
                "    ,ct.Name\r\n",
                "from Person.Person p \r\n",
                "JOIN Person.BusinessEntityContact bec \r\n",
                "    on bec.PersonID = p.BusinessEntityID\r\n",
                "JOIN Person.ContactType ct \r\n",
                "    on ct.ContactTypeID = bec.ContactTypeID\r\n",
                ""
            ],
            "metadata": {
                "language": "sql",
                "azdata_cell_guid": "5a3f61c0-156a-47be-8671-e41a409dc6fa",
                "tags": [
                    "hide_input"
                ]
            },
            "outputs": [],
            "execution_count": null
        },
        {
            "cell_type": "code",
            "source": [
                "select p.BusinessEntityID\r\n",
                "    ,p.PersonType\r\n",
                "    ,CONCAT_WS(' ',p.FirstName,p.MiddleName,p.LastName) Employee\r\n",
                "    ,p.Suffix\r\n",
                "    ,p.EmailPromotion\r\n",
                "from Person.Person p \r\n",
                "JOIN HumanResources.Employee e \r\n",
                "    on e.BusinessEntityID = p.BusinessEntityID\r\n",
                ""
            ],
            "metadata": {
                "language": "sql",
                "azdata_cell_guid": "3c56a826-c022-4814-a3ea-48deee1d1f66",
                "tags": [
                    "hide_input"
                ]
            },
            "outputs": [],
            "execution_count": null
        },
        {
            "cell_type": "code",
            "source": [
                "select p.BusinessEntityID\r\n",
                "    ,p.PersonType\r\n",
                "    ,CONCAT_WS(' ',p.FirstName,p.MiddleName,p.LastName) Employee\r\n",
                "    ,p.Suffix\r\n",
                "    ,p.EmailPromotion\r\n",
                "from Person.Person p \r\n",
                "JOIN Person.BusinessEntity be \r\n",
                "    on be.BusinessEntityID = p.BusinessEntityID"
            ],
            "metadata": {
                "language": "sql",
                "azdata_cell_guid": "b41f9725-d023-4224-823e-928511baccf8",
                "tags": [
                    "hide_input"
                ]
            },
            "outputs": [],
            "execution_count": null
        }
    ]
}